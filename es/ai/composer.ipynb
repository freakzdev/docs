{
 "cells": [
  {
   "attachments": {},
   "cell_type": "markdown",
   "metadata": {},
   "source": [
    "# **MÓDULO COMPOSER**"
   ]
  },
  {
   "attachments": {},
   "cell_type": "markdown",
   "metadata": {},
   "source": [
    "## Método **designer**:\n",
    "Permite crear imágenes y arte realistas a partir de una descripción en lenguaje natural."
   ]
  },
  {
   "attachments": {},
   "cell_type": "markdown",
   "metadata": {},
   "source": [
    "- **PYTHON**"
   ]
  },
  {
   "cell_type": "code",
   "execution_count": 1,
   "metadata": {},
   "outputs": [
    {
     "data": {
      "text/plain": [
       "JSON Response: {'status': 200, 'text': 'OK', 'response': ['https://BOT_URL/resources/xxxxxx/xxx/xxxxxxxxxx/']}\n"
      ]
     },
     "execution_count": 2,
     "metadata": {},
     "output_type": "execute_result"
    }
   ],
   "source": [
    "## designer: method\n",
    "params={\n",
    "  \"method\": \"designer\",\n",
    "  \"args\": {\n",
    "    \"prompt\": \"Imagen 3d de un perro pug vestido como vikingo\", # Description of the required image\n",
    "    \"n\": 1, # Number of images to generate (Max: 5)\n",
    "    \"size\": \"512x512\" # Image size ( 1024x1024 | 512x512 | 256x256 )\n",
    "  }\n",
    "}\n",
    "response = bot_request(\"composer\", params)\n",
    "print(\"JSON Response: \", response.json())"
   ]
  },
  {
   "attachments": {},
   "cell_type": "markdown",
   "metadata": {},
   "source": [
    "![PUG_VIKINGO](https://raw.githubusercontent.com/freakzdev/docs/main/sources/viking_pug.png?token=GHSAT0AAAAAACDCQL6N352TEBW3MZNKC55MZDPSX2Q)"
   ]
  },
  {
   "attachments": {},
   "cell_type": "markdown",
   "metadata": {},
   "source": [
    "- **PHP**"
   ]
  },
  {
   "cell_type": "code",
   "execution_count": 3,
   "metadata": {
    "vscode": {
     "languageId": "php"
    }
   },
   "outputs": [
    {
     "data": {
      "text/plain": [
       "JSON Response: {'status': 200, 'text': 'OK', 'response': ['https://BOT_URL/resources/xxxxxx/xxx/xxxxxxxxxx/']}\n"
      ]
     },
     "execution_count": 4,
     "metadata": {},
     "output_type": "execute_result"
    }
   ],
   "source": [
    "<?php\n",
    "/** designer: method */\n",
    "$params = array( \n",
    "  \"method\" => \"designer\", \n",
    "  \"args\" => array( \n",
    "    \"prompt\" => \"Imagen 3d de un perro westie vestido como vikingo\", // Descripción de la imagen requerida\n",
    "    \"n\" => 1, // Número de imagenes a generar ( Máximo 5 )\n",
    "    \"size\" => \"512x512\" // Tamaño de la imagen ( 1024x1024 | 512x512 | 256x256 )\n",
    "  ) \n",
    ");\n",
    "$response = bot_request( \"composer\", $params );\n",
    "echo \"JSON Response: \" . json_encode( $response );\n",
    "?>"
   ]
  },
  {
   "attachments": {},
   "cell_type": "markdown",
   "metadata": {},
   "source": [
    "![WESTIE_VIKINGO](https://raw.githubusercontent.com/freakzdev/docs/main/sources/viking_westie.png?token=GHSAT0AAAAAACDCQL6N352TEBW3MZNKC55MZDPSX2Q)"
   ]
  },
  {
   "attachments": {},
   "cell_type": "markdown",
   "metadata": {},
   "source": [
    "## Método **writer**:\n",
    "A partir de una indicación, el modelo genera un texto que coincide con el contexto o patrón dado."
   ]
  },
  {
   "attachments": {},
   "cell_type": "markdown",
   "metadata": {},
   "source": [
    "- **PYTHON**"
   ]
  },
  {
   "cell_type": "code",
   "execution_count": 5,
   "metadata": {},
   "outputs": [
    {
     "data": {
      "text/plain": [
       "JSON Response: {'status': 200, 'text': 'OK', 'response': '¡Feliz cumpleaños a todos nuestros clientes de la cafetería! Nosotros somos el equipo de tu cafetería favorita y no podríamos dejar pasar este especial día sin enviarte nuestros mejores deseos. Esperamos que este nuevo año esté repleto de muchas alegrías, buenos momentos y mucho éxito. Gracias por celebrar tu cumpleaños con nosotros y esperamos poder continuar siendo parte de tus días al compartir juntos muchas más tazas de café y sabores deliciosos. ¡Que tengas un día memorable y feliz cumpleaños!'}\n"
      ]
     },
     "execution_count": 6,
     "metadata": {},
     "output_type": "execute_result"
    }
   ],
   "source": [
    "## writer: method\n",
    "params={\n",
    "  \"method\": \"writer\",\n",
    "  \"args\": {\n",
    "    \"instruction\": \"Redacta una mensaje de felicitación de cumpleaños para los clientes de mi cafetería\" # Indication to generate the text\n",
    "  }\n",
    "}\n",
    "response = bot_request(\"composer\", params)\n",
    "print(\"JSON Response: \", response.json())"
   ]
  },
  {
   "attachments": {},
   "cell_type": "markdown",
   "metadata": {},
   "source": [
    "- **PHP**"
   ]
  },
  {
   "cell_type": "code",
   "execution_count": 7,
   "metadata": {
    "vscode": {
     "languageId": "php"
    }
   },
   "outputs": [
    {
     "data": {
      "text/plain": [
       "JSON Response: {'status': 200, 'text': 'OK', 'response': '¡Feliz cumpleaños a todos los clientes de nuestra cafetería! Esperamos que este día esté lleno de muchas sonrisas, momentos especiales y mucho café delicioso. Agradecemos su fiel apoyo y esperamos poder celebrar juntos pronto en nuestra cafetería. ¡Que tenga un día verdaderamente sorprendente!'}\n"
      ]
     },
     "execution_count": 8,
     "metadata": {},
     "output_type": "execute_result"
    }
   ],
   "source": [
    "<?php\n",
    "/** writer: method */\n",
    "$params = array(\n",
    "  \"method\" => \"writer\", \n",
    "  \"args\" => array( \n",
    "    \"instruction\" => \"Redacta una mensaje de felicitación de cumpleaños para los clientes de mi cafetería\" // Indicación para generar el texto\n",
    "  ) \n",
    ");\n",
    "$response = bot_request( \"composer\", $params );\n",
    "echo \"JSON Response: \" . json_encode( $response );\n",
    "?>"
   ]
  },
  {
   "attachments": {},
   "cell_type": "markdown",
   "metadata": {},
   "source": [
    "## Método **rewriter**:\n",
    "A partir de un texto y una instrucción, el modelo devuelve una versión editada del texto. Este método puede ser utilizado para mejorar la redacción de texto, verificación ortográfica o traducir a otros idiomas, etc."
   ]
  },
  {
   "attachments": {},
   "cell_type": "markdown",
   "metadata": {},
   "source": [
    "- **PYTHON**"
   ]
  },
  {
   "cell_type": "code",
   "execution_count": 9,
   "metadata": {
    "vscode": {
     "languageId": "php"
    }
   },
   "outputs": [
    {
     "data": {
      "text/plain": [
       "JSON Response: {'status': 200, 'text': 'OK', 'response': 'На первый взгляд реализация API не составляет каких-либо затруднений.'}\n"
      ]
     },
     "execution_count": 10,
     "metadata": {},
     "output_type": "execute_result"
    }
   ],
   "source": [
    "## rewriter: method\n",
    "params={\n",
    "  \"method\": \"rewriter\",\n",
    "  \"args\": {\n",
    "    \"input\": \"Al parecer la implementación del api, no es complicada en lo absoluto\", # Text to edit\n",
    "    \"instruction\": \"Traduce al ruso\" # Editing statement\n",
    "  }\n",
    "}\n",
    "response = bot_request(\"composer\", params)\n",
    "print(\"JSON Response: \", response.json())"
   ]
  },
  {
   "attachments": {},
   "cell_type": "markdown",
   "metadata": {},
   "source": [
    "- **PHP**"
   ]
  },
  {
   "cell_type": "code",
   "execution_count": 11,
   "metadata": {
    "vscode": {
     "languageId": "php"
    }
   },
   "outputs": [
    {
     "data": {
      "text/plain": [
       "JSON Response: {'status': 200, 'text': 'OK', 'response': 'it seems these api implementation is not so difficult'}\n"
      ]
     },
     "execution_count": 12,
     "metadata": {},
     "output_type": "execute_result"
    }
   ],
   "source": [
    "<?php\n",
    "/** rewriter: method */\n",
    "$params = array( \n",
    "  \"method\" => \"rewriter\", \n",
    "  \"args\" => array( \n",
    "    \"input\" => \"Al parecer la implementación del api, no es complicada en lo absoluto\", // Texto a editar\n",
    "    \"instruction\" => \"traduce el texto al ingles\" // Instrucción de edición\n",
    "  ) \n",
    ");\n",
    "$response = bot_request( \"composer\", $params );\n",
    "echo \"JSON Response: \" . json_encode( $response );\n",
    "?>"
   ]
  }
 ],
 "metadata": {
  "kernelspec": {
   "display_name": "Python 3",
   "language": "python",
   "name": "python3"
  },
  "language_info": {
   "codemirror_mode": {
    "name": "ipython",
    "version": 3
   },
   "file_extension": ".py",
   "mimetype": "text/x-python",
   "name": "python",
   "nbconvert_exporter": "python",
   "pygments_lexer": "ipython3",
   "version": "3.9.6"
  },
  "orig_nbformat": 4
 },
 "nbformat": 4,
 "nbformat_minor": 2
}
