{
 "cells": [
  {
   "attachments": {},
   "cell_type": "markdown",
   "metadata": {},
   "source": [
    "# **MÓDULO BOT**\n",
    "Es necesario utilizar el **MÓDULO TRINING** para alimentar de apredizajes al motor de **AI**.\n",
    "\n",
    "[PRESIONA _AQUÍ](https://github.com/freakzdev/docs/tree/main/es/ai/training.ipynb), para ingresar a la documentación del **MÓDULO TRINING**.\n",
    "\n",
    "- Es importante analizar con cuidado los requerimientos que podría tener el **BOT**, y alimentar con los apredizajes necesarios para solventar las necesidades de los usuarios\n",
    "- Mientras mayor sea el número de apredizajes suministrados el **BOT**, las respuestas a los usuarios serán más exactas\n",
    "- Es recomendable registrar textos de lenguaje natural genéricos ( **trainig::failover** ), para que en el caso de que los contextos de las consultas de tus clientes no esten incluidas en la base de apredizajes suminstrados al **BOT**, este pueda responder con mayor sentido."
   ]
  },
  {
   "attachments": {},
   "cell_type": "markdown",
   "metadata": {},
   "source": [
    "## Método **reply**:\n",
    "Permite obtener las respuestas del **BOT**, a los requerimientos de los ususarios"
   ]
  },
  {
   "attachments": {},
   "cell_type": "markdown",
   "metadata": {},
   "source": [
    "- **PYTHON**"
   ]
  },
  {
   "cell_type": "code",
   "execution_count": 1,
   "metadata": {},
   "outputs": [
    {
     "data": {
      "text/plain": [
       "JSON Response: {\n",
       " 'status': 200, 'text': 'OK',\n",
       " 'response': [\n",
       "   'Hola, bienvenido a The Coffee Coop, en que puedo ayudarte?'\n",
       "   'Nuestros horarios de atencion son: De Lunes a Jueves de 08:30 a 21:00 Viernes y Sabado de 07:30 a 23:00 Domingos de 07:30 a 18:00'\n",
       " ]\n",
       "}\n"
      ]
     },
     "execution_count": 2,
     "metadata": {},
     "output_type": "execute_result"
    }
   ],
   "source": [
    "#### reply: method\n",
    "params={\n",
    "  \"method\": \"reply\",\n",
    "  \"args\": {\n",
    "    \"input\": \"Hola buenos días\", # User requirement\n",
    "    \"max\": 2 # Maximum number of responses requested (IMPORTANT: In a chatbot it is advisable to request the most matching response)\n",
    "    # Solo como prueba, solicitamos las 2 respuestas más coincidentes\n",
    "  }\n",
    "}\n",
    "response = bot_request(\"bot\", params)\n",
    "print(\"JSON Response:\", response.json())"
   ]
  },
  {
   "cell_type": "code",
   "execution_count": 3,
   "metadata": {},
   "outputs": [
    {
     "data": {
      "text/plain": [
       "JSON Response: {'status': 200, 'text': 'OK', 'response': ['Estamos ubicados en Quito en la Av. República del Salvador y Portugal esquina... \n",
       "Te envío la ubicación: https://goo.gl/maps/WGNRmd6MNxbq5kgQ6\n",
       "visitanos cuando quieras estaremos gustosos de atenderte.']}\n"
      ]
     },
     "execution_count": 4,
     "metadata": {},
     "output_type": "execute_result"
    }
   ],
   "source": [
    "#### reply: method\n",
    "params={\n",
    "  \"method\": \"reply\",\n",
    "  \"args\": {\n",
    "    \"input\": \"Donde estan ubicados?\",\n",
    "    \"max\": 1\n",
    "  }\n",
    "}\n",
    "response = bot_request(\"bot\", params)\n",
    "print(\"JSON Response:\", response.json())"
   ]
  },
  {
   "cell_type": "code",
   "execution_count": 5,
   "metadata": {},
   "outputs": [
    {
     "data": {
      "text/plain": [
       "JSON Response: {'status': 200, 'text': 'OK', 'response': ['Lamento mucho no poder ayudarte con esa información.\n",
       "sin embargo, si deseas puedo contactarte con una persona para que te de asistencia personalizada.']}\n"
      ]
     },
     "execution_count": 6,
     "metadata": {},
     "output_type": "execute_result"
    }
   ],
   "source": [
    "#### reply: method\n",
    "params={\n",
    "  \"method\": \"reply\",\n",
    "  \"args\": {\n",
    "    \"input\": \"Al parecer no puedes ayudarme que puedo hacer?\",\n",
    "    \"max\": 1\n",
    "  }\n",
    "}\n",
    "response = bot_request(\"bot\", params)\n",
    "print(\"JSON Response:\", response.json())"
   ]
  },
  {
   "attachments": {},
   "cell_type": "markdown",
   "metadata": {},
   "source": [
    "- **PHP**"
   ]
  },
  {
   "cell_type": "code",
   "execution_count": 7,
   "metadata": {
    "vscode": {
     "languageId": "php"
    }
   },
   "outputs": [
    {
     "data": {
      "text/plain": [
       "JSON Response: {\n",
       " 'status': 200, 'text': 'OK',\n",
       " 'response': [\n",
       "   'Hola, bienvenido a The Coffee Coop, en que puedo ayudarte?'\n",
       "   'Nuestros horarios de atencion son: De Lunes a Jueves de 08:30 a 21:00 Viernes y Sabado de 07:30 a 23:00 Domingos de 07:30 a 18:00'\n",
       " ]\n",
       "}\n"
      ]
     },
     "execution_count": 8,
     "metadata": {},
     "output_type": "execute_result"
    }
   ],
   "source": [
    "<?php\n",
    "/** reply: method */\n",
    "$params = array(\n",
    "  \"method\" => \"reply\",\n",
    "  \"args\" => array( \n",
    "    \"input\" => \"Hola buenos días\", // requisitos de usuario\n",
    "    \"max\" => 2 // Número máximo de respuestas solicitadas (IMPORTANTE: En un chatbot es recomendable solicitar la respuesta más coincidente)\n",
    "    // Solo como prueba, solicitamos las 2 respuestas más coincidentes\n",
    "  )\n",
    ");\n",
    "$response = bot_request( \"training\", $params );\n",
    "echo \"JSON Response: \" . json_encode( $response );\n",
    "?>"
   ]
  },
  {
   "cell_type": "code",
   "execution_count": 9,
   "metadata": {
    "vscode": {
     "languageId": "php"
    }
   },
   "outputs": [
    {
     "data": {
      "text/plain": [
       "JSON Response: {'status': 200, 'text': 'OK', 'response': ['Estamos ubicados en Quito en la Av. República del Salvador y Portugal esquina... \n",
       "Te envío la ubicación: https://goo.gl/maps/WGNRmd6MNxbq5kgQ6\n",
       "visitanos cuando quieras estaremos gustosos de atenderte.']}\n"
      ]
     },
     "execution_count": 10,
     "metadata": {},
     "output_type": "execute_result"
    }
   ],
   "source": [
    "<?php\n",
    "/** reply: method */\n",
    "$params = array(\n",
    "  \"method\" => \"reply\",\n",
    "  \"args\" => array( \n",
    "    \"input\" => \"Donde estan ubicados?\",\n",
    "    \"max\" => 1\n",
    "  )\n",
    ");\n",
    "$response = bot_request( \"training\", $params );\n",
    "echo \"JSON Response: \" . json_encode( $response );\n",
    "?>"
   ]
  },
  {
   "cell_type": "code",
   "execution_count": 11,
   "metadata": {
    "vscode": {
     "languageId": "php"
    }
   },
   "outputs": [
    {
     "data": {
      "text/plain": [
       "JSON Response: {'status': 200, 'text': 'OK', 'response': ['Lamento mucho no poder ayudarte con esa información.\n",
       "sin embargo, si deseas puedo contactarte con una persona para que te de asistencia personalizada.']}\n"
      ]
     },
     "execution_count": 12,
     "metadata": {},
     "output_type": "execute_result"
    }
   ],
   "source": [
    "<?php\n",
    "/** reply: method */\n",
    "$params = array(\n",
    "  \"method\" => \"reply\",\n",
    "  \"args\" => array( \n",
    "    \"input\" => \"Al parecer no puedes ayudarme que puedo hacer?\",\n",
    "    \"max\" => 1\n",
    "  )\n",
    ");\n",
    "$response = bot_request( \"training\", $params );\n",
    "echo \"JSON Response: \" . json_encode( $response );\n",
    "?>"
   ]
  }
 ],
 "metadata": {
  "kernelspec": {
   "display_name": "Python 3",
   "language": "python",
   "name": "python3"
  },
  "language_info": {
   "codemirror_mode": {
    "name": "ipython",
    "version": 3
   },
   "file_extension": ".py",
   "mimetype": "text/x-python",
   "name": "python",
   "nbconvert_exporter": "python",
   "pygments_lexer": "ipython3",
   "version": "3.9.6"
  },
  "orig_nbformat": 4
 },
 "nbformat": 4,
 "nbformat_minor": 2
}
