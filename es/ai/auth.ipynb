{
 "cells": [
  {
   "attachments": {},
   "cell_type": "markdown",
   "metadata": {},
   "source": [
    "# **ESQUEMA DE AUTENTIFICACIÓN**"
   ]
  },
  {
   "attachments": {},
   "cell_type": "markdown",
   "metadata": {},
   "source": [
    "## PRACTICAS RECOMENDADAS:\n",
    "Por razones de seguridad es recomendable utilizar variables de entorno para almacenar las credenciales de conexión"
   ]
  },
  {
   "attachments": {},
   "cell_type": "markdown",
   "metadata": {},
   "source": [
    "- **PYTHON**: Linux Shell Script"
   ]
  },
  {
   "cell_type": "code",
   "execution_count": 1,
   "metadata": {
    "vscode": {
     "languageId": "shellscript"
    }
   },
   "outputs": [],
   "source": [
    "#!/bin/dash\n",
    "# Environment variables definition: env_vars.sh\n",
    "# Linux Shell Script\n",
    "# TO RUN THIS SCRIPT EXECUTE: source ./env_vars.sh\n",
    "\n",
    "## PYTHON\n",
    "## TO SET ENVIRONMENT VARIABLES TO OS RUN:\n",
    "export BOT_API_HOST=\"https://xxxxxxx.xxx\"\n",
    "export BOT_API_ID=\"ID-XXXX-XXXX-XXXX\"\n",
    "export BOT_API_TOKEN=\"XXXX-XXXX-XXXX-XXXX-XXXX-XXXX-XXXX-XXXX-XXXX\"\n",
    "\n",
    "## TO UNSET ENVIRONMENT VARIABLES RUN:\n",
    "# unset BOT_API_HOST\n",
    "# unset BOT_API_ID\n",
    "# unset BOT_API_TOKEN"
   ]
  },
  {
   "attachments": {},
   "cell_type": "markdown",
   "metadata": {},
   "source": [
    "- **PHP**"
   ]
  },
  {
   "cell_type": "code",
   "execution_count": 2,
   "metadata": {
    "vscode": {
     "languageId": "php"
    }
   },
   "outputs": [],
   "source": [
    "<?php\n",
    "# Environment variables definition: env_vars.php\n",
    "# PHP script\n",
    "/** PHP CODE */\n",
    "/** Variables de entorno */\n",
    "$BOT_API_HOST = \"https://xxxxxxx.xxx\";\n",
    "$BOT_API_ID = \"ID-XXXX-XXXX-XXXX\";\n",
    "$BOT_API_TOKEN = \"XXXX-XXXX-XXXX-XXXX-XXXX-XXXX-XXXX-XXXX-XXXX\";\n",
    "?>"
   ]
  },
  {
   "attachments": {},
   "cell_type": "markdown",
   "metadata": {},
   "source": [
    "## WEB Service:\n",
    "Es recomendable definir una función que permita la ejecución de la llamada al **API**, esta función puede ser utilizada para todos lo módulos y métodos diponibles."
   ]
  },
  {
   "attachments": {},
   "cell_type": "markdown",
   "metadata": {},
   "source": [
    "- **PYTHON**"
   ]
  },
  {
   "cell_type": "code",
   "execution_count": 3,
   "metadata": {},
   "outputs": [],
   "source": [
    "#! /usr/bin/env python\n",
    "# Main Script: bot_api.py\n",
    "# PHP script\n",
    "import os\n",
    "import requests\n",
    "import json\n",
    "import base64\n",
    "#LOADING ENVIRONMENT VARIABLES\n",
    "bot_api_host = os.environ.get(\"BOT_API_HOST\")\n",
    "bot_api_id = os.environ.get(\"BOT_API_ID\")\n",
    "bot_apy_token = os.environ.get(\"BOT_API_TOKEN\")\n",
    "\n",
    "def bot_request(module, data, headers={ \"Content-Type\": \"application/json\", \"Auth\": str(bot_api_id), \"Authorization\": str(bot_apy_token) } ):\n",
    "  url=str(bot_api_host) + \"/api/v1/ai/\"+str(module)+\"/\"\n",
    "  response = requests.post(url, headers=headers, json=data)\n",
    "  return response"
   ]
  },
  {
   "attachments": {},
   "cell_type": "markdown",
   "metadata": {},
   "source": [
    "- **PHP**"
   ]
  },
  {
   "cell_type": "code",
   "execution_count": 4,
   "metadata": {
    "vscode": {
     "languageId": "php"
    }
   },
   "outputs": [],
   "source": [
    "<?php\n",
    "# Main Script: bot_api.php\n",
    "# PHP script\n",
    "require_once \"env_vars.php\";\n",
    "function bot_request( $params, $module ) {\n",
    "  $ch = curl_init();\n",
    "  curl_setopt( $ch, CURLOPT_URL, \"{$GLOBALS[ \"BOT_API_HOST\" ]}/api/v1/ai/{$module}/\" );\n",
    "  curl_setopt( $ch, CURLOPT_CUSTOMREQUEST, \"POST\" );\n",
    "  curl_setopt( $ch, CURLOPT_POST, 1 );\n",
    "  curl_setopt( $ch, CURLOPT_POSTFIELDS, json_encode( $params ) );\n",
    "  curl_setopt( $ch, CURLOPT_FOLLOWLOCATION, 1 );\n",
    "  curl_setopt( $ch, CURLOPT_RETURNTRANSFER, 1 );\n",
    "\n",
    "  /** IMPORTANTE: Estas opciones deshabilitan la verificación SSL. ( NO RECOMENDADO )  */\n",
    "  curl_setopt( $ch, CURLOPT_SSL_VERIFYHOST, false );\n",
    "  curl_setopt( $ch, CURLOPT_SSL_VERIFYPEER, false );\n",
    "  /** */\n",
    "\n",
    "  $headers = array();\n",
    "  $headers[] = \"Content-Type: application/json\";\n",
    "  $headers[] = \"Auth: {$GLOBALS[ \"BOT_API_ID\" ]}\";\n",
    "  $headers[] = \"Authorization: {$GLOBALS[ \"BOT_API_TOKEN\" ]}\";\n",
    "\n",
    "  curl_setopt( $ch, CURLOPT_HTTPHEADER, $headers );\n",
    "  $response = json_decode( curl_exec( $ch ), TRUE );\n",
    "\n",
    "  curl_close( $ch );\n",
    "  return $response;\n",
    "}\n",
    "?>"
   ]
  }
 ],
 "metadata": {
  "kernelspec": {
   "display_name": "Python 3",
   "language": "python",
   "name": "python3"
  },
  "language_info": {
   "codemirror_mode": {
    "name": "ipython",
    "version": 3
   },
   "file_extension": ".py",
   "mimetype": "text/x-python",
   "name": "python",
   "nbconvert_exporter": "python",
   "pygments_lexer": "ipython3",
   "version": "3.9.6"
  },
  "orig_nbformat": 4
 },
 "nbformat": 4,
 "nbformat_minor": 2
}
