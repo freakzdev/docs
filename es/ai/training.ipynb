{
 "cells": [
  {
   "attachments": {},
   "cell_type": "markdown",
   "metadata": {},
   "source": [
    "# **MÓDULO TRAINING**"
   ]
  },
  {
   "attachments": {},
   "cell_type": "markdown",
   "metadata": {},
   "source": [
    "## Método **failover**:\n",
    "Permite cargar en el la base de conocimientos del **BOT**, textos de lenguaje natural genéricos, para que le motor de **AI**, pueda responder a requerimientos que generalmente estan fuera de contexto"
   ]
  },
  {
   "attachments": {},
   "cell_type": "markdown",
   "metadata": {},
   "source": [
    "- **PYTHON**"
   ]
  },
  {
   "cell_type": "code",
   "execution_count": 1,
   "metadata": {},
   "outputs": [
    {
     "data": {
      "text/plain": [
       "JSON Response: {'status': 200, 'text': 'OK', 'response': {'failover': ['{\"id\": xx}', '{\"id\": xx}'], 'learning': '{\"ids\": \"xx,xx\"}', 'reload': xxxxxxxx}}\n"
      ]
     },
     "execution_count": 2,
     "metadata": {},
     "output_type": "execute_result"
    }
   ],
   "source": [
    "#### reply: failover\n",
    "params={\n",
    "  \"method\": \"failover\",\n",
    "  \"args\": {\n",
    "    \"lang\": \"es\" # Failover module language\n",
    "  }\n",
    "}\n",
    "response = bot_request(\"training\", params)\n",
    "print(\"JSON Response:\", response.json())"
   ]
  },
  {
   "attachments": {},
   "cell_type": "markdown",
   "metadata": {},
   "source": [
    "- **PHP**"
   ]
  },
  {
   "cell_type": "code",
   "execution_count": 3,
   "metadata": {
    "vscode": {
     "languageId": "php"
    }
   },
   "outputs": [
    {
     "data": {
      "text/plain": [
       "JSON Response: {'status': 200, 'text': 'OK', 'response': {'failover': ['{\"id\": xx}', '{\"id\": xx}'], 'learning': '{\"ids\": \"xx,xx\"}', 'reload': xxxxxxxx}}\n"
      ]
     },
     "execution_count": 4,
     "metadata": {},
     "output_type": "execute_result"
    }
   ],
   "source": [
    "<?php\n",
    "/** unlearn: method */\n",
    "$params = array(\n",
    "  \"method\" => \"failover\", \n",
    "  \"args\" => array( \n",
    "    \"lang\" => \"es\" // Idioma del módulo de failover\n",
    "  )\n",
    ");\n",
    "$response = bot_request( \"training\", $params );\n",
    "echo \"JSON Response: \" . json_encode( $response );\n",
    "?>"
   ]
  },
  {
   "attachments": {},
   "cell_type": "markdown",
   "metadata": {},
   "source": [
    "## Método **learn**:\n",
    "Permite agregar o modificar una sola entrada texto de aprendizaje, para que el chatbot interprete las consultas de los usuarios y pueda responder o generar acciones automatizadas."
   ]
  },
  {
   "attachments": {},
   "cell_type": "markdown",
   "metadata": {},
   "source": [
    "- **PYTHON**"
   ]
  },
  {
   "cell_type": "code",
   "execution_count": 5,
   "metadata": {},
   "outputs": [
    {
     "data": {
      "text/plain": [
       "JSON Response: {'status': 200, 'text': 'OK', 'response': {'id': xxx, 'learned': '{id: xxx}', 'reload': xxxxxxxx}}\n"
      ]
     },
     "execution_count": 6,
     "metadata": {},
     "output_type": "execute_result"
    }
   ],
   "source": [
    "## learn: method\n",
    "params={\n",
    "  \"method\": \"learn\",\n",
    "  \"args\": {\n",
    "    \"tag\": \"ZONA_PRIVADA_006\", # Unique identification tag. ( IMPORTANT: This data allows the modification of the learning text )\n",
    "    \"input\": str(base64.b64encode((\"Nuestro local cuenta con un salon privado donde bajo reserva tu puedes celebrar pequenños eventos como cumpleaño, reuniones de trabajo, etc.\").encode(\"utf-8\")), \"utf-8\"), # Natural language text\n",
    "    \"keywords\": {}, # Keywords variables\n",
    "    \"action\": {}  # Callback actions\n",
    "  }\n",
    "}\n",
    "response = bot_request(\"training\", params)\n",
    "print(\"JSON Response: \", response.json())"
   ]
  },
  {
   "attachments": {},
   "cell_type": "markdown",
   "metadata": {},
   "source": [
    "- **PHP**"
   ]
  },
  {
   "cell_type": "code",
   "execution_count": 7,
   "metadata": {
    "vscode": {
     "languageId": "php"
    }
   },
   "outputs": [
    {
     "data": {
      "text/plain": [
       "JSON Response: {'status': 200, 'text': 'OK', 'response': {'id': xxx, 'learned': '{id: xxx}', 'reload': xxxxxxxx}}\n"
      ]
     },
     "execution_count": 8,
     "metadata": {},
     "output_type": "execute_result"
    }
   ],
   "source": [
    "<?php\n",
    "/** learn: method */\n",
    "$params = array(\n",
    "  \"method\" => \"learn\", \n",
    "  \"args\" => array( \n",
    "    \"tag\" => \"SALUDO_001\", // Etiqueta de identificación única. ( IMPORTANTE: Este dato permite la modificación del texto del aprendizaje )\n",
    "    \"input\" => base64_encode( \"Hola, bienvenido a The Coffee Coop, en que puedo ayudarte?\" ), // Texto en lenguaje natural\n",
    "    \"keywords\" => array(), // palabras claves\n",
    "    \"actions\" => array() // acciones de respuesta\n",
    "  ) \n",
    ");\n",
    "$response = bot_request( \"training\", $params );\n",
    "echo \"JSON Response: \" . json_encode( $response );\n",
    "?>"
   ]
  },
  {
   "attachments": {},
   "cell_type": "markdown",
   "metadata": {},
   "source": [
    "## Método **learning_file**:\n",
    "Permite cargar un archivo que contiene multiples textos de aprendizaje, para que el chatbot interprete las consultas de los usuarios y pueda responder o generar acciones automatizadas."
   ]
  },
  {
   "attachments": {},
   "cell_type": "markdown",
   "metadata": {},
   "source": [
    "**FORMATOS ACEPTADOS:** \n",
    "- .xlsx .xls .csv\n",
    "\n",
    "**ESTRUCTURA DE DATOS:**\n",
    "- *COLUMNA 1:* Tag de identificación\n",
    "- *COLUMNA 2:* Texto de aprendizaje en lenguaje natural\n",
    "- *COLUMNA 3:* Variables en formato JSON\n",
    "- *COLUMNA 4:* Acciones en formato JSON\n",
    "\n",
    "- *FILA 1:* Reservado para titulos y encabezados\n",
    "- *FILA 2:* Los datos deben comenzar a partir de la fila 2"
   ]
  },
  {
   "attachments": {},
   "cell_type": "markdown",
   "metadata": {},
   "source": [
    "![DATOS_ENTRENAMIENTO](https://raw.githubusercontent.com/freakzdev/docs/main/sources/es_training_data.png)\n",
    "[ARCHIVO_MODELO](https://raw.githubusercontent.com/freakzdev/docs/main/sources/es_trainig_data.xlsx)"
   ]
  },
  { 
   "attachments": {},
   "cell_type": "markdown",
   "metadata": {},
   "source": [
    "- **PYTHON**"
   ]
  },
  {
   "cell_type": "code",
   "execution_count": 9,
   "metadata": {},
   "outputs": [
    {
     "data": {
      "text/plain": [
       "JSON Response: {'status': 200, 'text': 'OK', 'response': ['{id: xxx}', '{id: xxx}', '{id: xxx}', '{id: xxx}']}\n"
      ]
     },
     "execution_count": 10,
     "metadata": {},
     "output_type": "execute_result"
    }
   ],
   "source": [
    "## learning_file: method\n",
    "params={\n",
    "  \"method\": \"learning_file\",\n",
    "  \"args\": \"https://xxxxxxxxx.xxx/resources/es_trainig_data.xlsx\" # URL of the file to upload\n",
    "}\n",
    "response = bot_request(\"training\", params)\n",
    "print(\"JSON Response: \", response.json())"
   ]
  },
  {
   "attachments": {},
   "cell_type": "markdown",
   "metadata": {},
   "source": [
    "- **PHP**"
   ]
  },
  {
   "cell_type": "code",
   "execution_count": 11,
   "metadata": {
    "vscode": {
     "languageId": "php"
    }
   },
   "outputs": [
    {
     "data": {
      "text/plain": [
       "JSON Response: {'status': 200, 'text': 'OK', 'response': ['{id: xxx}', '{id: xxx}', '{id: xxx}', '{id: xxx}']}\n"
      ]
     },
     "execution_count": 12,
     "metadata": {},
     "output_type": "execute_result"
    }
   ],
   "source": [
    "<?php\n",
    "/** learning_file: method */\n",
    "$params = array(\n",
    "  \"method\" => \"learning_file\", \n",
    "  \"args\" => \"https://xxxxxxxxx.xxx/resources/es_trainig_data.xlsx\" // URL del archivo a cargar\n",
    ");\n",
    "$response = bot_request( \"training\", $params );\n",
    "echo \"JSON Response: \" . json_encode( $response );\n",
    "?>"
   ]
  },
  {
   "attachments": {},
   "cell_type": "markdown",
   "metadata": {},
   "source": [
    "## Método **relearning**:\n",
    "Reprocesa todos los datos de aprendizaje... \n",
    "Una vez que los textos de aprendizaje hayan sido registrados por el motor de **AI**, al ejecutar este método el motor verifica los datos que no hayan sido procesados y ejecuta los algoritmos de aprendizaje."
   ]
  },
  {
   "attachments": {},
   "cell_type": "markdown",
   "metadata": {},
   "source": [
    "- **PYTHON**"
   ]
  },
  {
   "cell_type": "code",
   "execution_count": 13,
   "metadata": {},
   "outputs": [
    {
     "data": {
      "text/plain": [
       "JSON Response: {'status': 200, 'text': 'OK', 'response': {'reload': xxxx, 'relearned': ['{id: xxx}', '{id: xxx}', '{id: xxx}', '{id: xxx}']}}\n"
      ]
     },
     "execution_count": 14,
     "metadata": {},
     "output_type": "execute_result"
    }
   ],
   "source": [
    "## relearning: method\n",
    "params={\n",
    "  \"method\": \"relearning\",\n",
    "  # Does not require additional arguments\n",
    "}\n",
    "response = bot_request(\"training\", params)\n",
    "print(\"JSON Response: \", response.json())"
   ]
  },
  {
   "attachments": {},
   "cell_type": "markdown",
   "metadata": {},
   "source": [
    "- **PHP**"
   ]
  },
  {
   "cell_type": "code",
   "execution_count": 15,
   "metadata": {
    "vscode": {
     "languageId": "php"
    }
   },
   "outputs": [
    {
     "data": {
      "text/plain": [
       "JSON Response: {'status': 200, 'text': 'OK', 'response': {'reload': xxxx, 'relearned': ['{id: xxx}', '{id: xxx}', '{id: xxx}', '{id: xxx}']}}\n"
      ]
     },
     "execution_count": 16,
     "metadata": {},
     "output_type": "execute_result"
    }
   ],
   "source": [
    "<?php\n",
    "/** relearning: method */\n",
    "$params = array( \n",
    "  \"method\" => \"relearning\" \n",
    "  // No requiere argumentos adicionales\n",
    ");\n",
    "$response = bot_request( \"training\", $params );\n",
    "echo \"JSON Response: \" . json_encode( $response );\n",
    "?>"
   ]
  },
  {
   "attachments": {},
   "cell_type": "markdown",
   "metadata": {},
   "source": [
    "## Método **learnings_get**:\n",
    "Permite descargar un archivo que contiene todos los textos de lenguaje natural disponibles"
   ]
  },
  {
   "attachments": {},
   "cell_type": "markdown",
   "metadata": {},
   "source": [
    "- **PYTHON**"
   ]
  },
  {
   "cell_type": "code",
   "execution_count": 17,
   "metadata": {},
   "outputs": [
    {
     "data": {
      "text/plain": [
       "JSON Response: {'status':200,'text':'OK','response':'https://xxxxxxxxx.xxx/resources/temp/json/xxxxxxxxxxx'}\n"
      ]
     },
     "execution_count": 18,
     "metadata": {},
     "output_type": "execute_result"
    }
   ],
   "source": [
    "## relearning: learnings_get\n",
    "params={\n",
    "  \"method\": \"learnings_get\",\n",
    "  \"args\": {\n",
    "    \"format\": \"json\" # File Format: .xlsx | .json\n",
    "  }\n",
    "}\n",
    "response = bot_request(\"training\", params)\n",
    "print(\"JSON Response: \", response.json())"
   ]
  },
  {
   "attachments": {},
   "cell_type": "markdown",
   "metadata": {},
   "source": [
    "[EJEMPLO_JSON](https://raw.githubusercontent.com/freakzdev/docs/main/sources/es_learnings_get.json)"
   ]
  },
  {
   "attachments": {},
   "cell_type": "markdown",
   "metadata": {},
   "source": [
    "- **PHP**"
   ]
  },
  {
   "cell_type": "code",
   "execution_count": 19,
   "metadata": {
    "vscode": {
     "languageId": "php"
    }
   },
   "outputs": [
    {
     "data": {
      "text/plain": [
       "JSON Response: {'status':200,'text':'OK','response':'https://xxxxxxxxx.xxx/resources/temp/xlsx/xxxxxxxxxxx'}\n"
      ]
     },
     "execution_count": 20,
     "metadata": {},
     "output_type": "execute_result"
    }
   ],
   "source": [
    "<?php\n",
    "/** learnings_get: method */\n",
    "$params = array( \n",
    "  \"method\" => \"learnings_get\",\n",
    "  \"args\" => array( \n",
    "    \"format\" => \"xlsx\" // Formato de archivo: .xlsx | .json\n",
    "  )\n",
    ");\n",
    "$response = bot_request( \"training\", $params );\n",
    "echo \"JSON Response: \" . json_encode( $response );\n",
    "?>"
   ]
  },
  {
   "attachments": {},
   "cell_type": "markdown",
   "metadata": {},
   "source": [
    "![LEARNINGS_GET](https://raw.githubusercontent.com/freakzdev/docs/main/sources/es_learnings_get_xlsx.png)"
   ]
  },
  {
   "attachments": {},
   "cell_type": "markdown",
   "metadata": {},
   "source": [
    "[EJEMPLO_XLSX](https://raw.githubusercontent.com/freakzdev/docs/main/sources/es_learnings_get.xlsx)"
   ]
  },
  {
   "attachments": {},
   "cell_type": "markdown",
   "metadata": {},
   "source": [
    "## Método **unlearn**:\n",
    "Permite eliminar entradas de texto de aprendizaje en base la etiqueta única de identificación."
   ]
  },
  {
   "attachments": {},
   "cell_type": "markdown",
   "metadata": {},
   "source": [
    "- **PYTHON**"
   ]
  },
  {
   "cell_type": "code",
   "execution_count": 21,
   "metadata": {},
   "outputs": [
    {
     "data": {
      "text/plain": [
       "JSON Response: {'status': 200, 'text': 'OK', 'response': {'id': xx, 'learned': '{\"id\": xx}', 'reload': xxxxxxxx}}\n",
       "JSON Response: {'status': 200, 'text': 'OK', 'response': {'id': xx, 'learned': '{\"id\": xx}', 'reload': xxxxxxxx}}\n",
       "JSON Response: {'status': 200, 'text': 'OK', 'response': {'id': xx, 'learned': '{\"id\": xx}', 'reload': xxxxxxxx}}\n",
       "JSON Response: {'status': 200, 'text': 'OK', 'response': {'id': xx, 'learned': '{\"id\": xx}', 'reload': xxxxxxxx}}\n",
       "JSON Response: {'status': 200, 'text': 'OK', 'response': {'id': xx, 'learned': '{\"id\": xx}', 'reload': xxxxxxxx}}\n"
      ]
     },
     "execution_count": 22,
     "metadata": {},
     "output_type": "execute_result"
    }
   ],
   "source": [
    "## learn: method\n",
    "##Learning useful prompts. ( Test purpose only )\n",
    "params={\"method\": \"learn\",\"args\": {\"tag\": \"UNLEARN_001\",\"input\": str(base64.b64encode((\"Texto a eliminar 1 \").encode(\"utf-8\")), \"utf-8\"),\"keywords\": {},\"action\": {}}}\n",
    "response = bot_request(\"training\", params)\n",
    "print(\"JSON Response: \", response.json())\n",
    "params={\"method\": \"learn\",\"args\": {\"tag\": \"UNLEARN_002\",\"input\": str(base64.b64encode((\"Texto a eliminar 2\").encode(\"utf-8\")), \"utf-8\"),\"keywords\": {},\"action\": {}}}\n",
    "response = bot_request(\"training\", params)\n",
    "print(\"JSON Response: \", response.json())\n",
    "params={\"method\": \"learn\",\"args\": {\"tag\": \"UNLEARN_003\",\"input\": str(base64.b64encode((\"Texto a eliminar 3\").encode(\"utf-8\")), \"utf-8\"),\"keywords\": {},\"action\": {}}}\n",
    "response = bot_request(\"training\", params)\n",
    "print(\"JSON Response: \", response.json())\n",
    "params={\"method\": \"learn\",\"args\": {\"tag\": \"UNLEARN_004\",\"input\": str(base64.b64encode((\"Texto a eliminar 4\").encode(\"utf-8\")), \"utf-8\"),\"keywords\": {},\"action\": {}}}\n",
    "response = bot_request(\"training\", params)\n",
    "print(\"JSON Response: \", response.json())\n",
    "params={\"method\": \"learn\",\"args\": {\"tag\": \"UNLEARN_005\",\"input\": str(base64.b64encode((\"Texto a eliminar 5\").encode(\"utf-8\")), \"utf-8\"),\"keywords\": {},\"action\": {}}}\n",
    "response = bot_request(\"training\", params)\n",
    "print(\"JSON Response: \", response.json())"
   ]
  },
  {
   "cell_type": "code",
   "execution_count": 23,
   "metadata": {},
   "outputs": [
    {
     "data": {
      "text/plain": [
       "JSON Response: {'status': 200, 'text': 'OK', 'response': {'unlearn': '{\"tags\": \"UNLEARN_001,UNLEARN_002,UNLEARN_003,UNLEARN_004,UNLEARN_005\"}', 'reload': xxxxxxxx}}\n"
      ]
     },
     "execution_count": 24,
     "metadata": {},
     "output_type": "execute_result"
    }
   ],
   "source": [
    "## unlearn: method\n",
    "params={\n",
    "  \"method\": \"unlearn\",\n",
    "  \"args\": {\n",
    "    \"tags\": [ \"UNLEARN_001\", \"UNLEARN_002\", \"UNLEARN_003\", \"UNLEARN_004\", \"UNLEARN_005\" ] # Unique identification tags array\n",
    "  }\n",
    "}\n",
    "response = bot_request(\"training\", params)\n",
    "print(\"JSON Response: \", response.json())"
   ]
  },
  {
   "attachments": {},
   "cell_type": "markdown",
   "metadata": {},
   "source": [
    "- **PHP**"
   ]
  },
  {
   "cell_type": "code",
   "execution_count": 25,
   "metadata": {
    "vscode": {
     "languageId": "php"
    }
   },
   "outputs": [
    {
     "data": {
      "text/plain": [
       "JSON Response: {'status': 200, 'text': 'OK', 'response': {'unlearn': '{\"tags\": \"UNLEARN_001,UNLEARN_002,UNLEARN_003,UNLEARN_004,UNLEARN_005\"}', 'reload': xxxxxxxx}}\n"
      ]
     },
     "execution_count": 26,
     "metadata": {},
     "output_type": "execute_result"
    }
   ],
   "source": [
    "<?php\n",
    "/** unlearn: method */\n",
    "$params = array(\n",
    "  \"method\" => \"unlearn\", \n",
    "  \"args\" => array( \n",
    "    \"tags\" => array( \"UNLEARN_001\", \"UNLEARN_002\", \"UNLEARN_003\", \"UNLEARN_004\", \"UNLEARN_005\" ) // Conjunto de etiquetas de identificación únicas.\n",
    "  ) \n",
    ");\n",
    "$response = bot_request( \"training\", $params );\n",
    "echo \"JSON Response: \" . json_encode( $response );\n",
    "?>"
   ]
  }
 ],
 "metadata": {
  "kernelspec": {
   "display_name": "Python 3",
   "language": "python",
   "name": "python3"
  },
  "language_info": {
   "codemirror_mode": {
    "name": "ipython",
    "version": 3
   },
   "file_extension": ".py",
   "mimetype": "text/x-python",
   "name": "python",
   "nbconvert_exporter": "python",
   "pygments_lexer": "ipython3",
   "version": "3.9.6"
  },
  "orig_nbformat": 4
 },
 "nbformat": 4,
 "nbformat_minor": 2
}
